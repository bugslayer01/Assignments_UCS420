{
 "cells": [
  {
   "cell_type": "code",
   "execution_count": 4,
   "id": "383fbd0f-1203-49b1-af0a-2623b9cee054",
   "metadata": {},
   "outputs": [],
   "source": [
    "import pandas as pd"
   ]
  },
  {
   "cell_type": "code",
   "execution_count": 10,
   "id": "ef306e2d-1999-40d1-aad1-a08916bf10f3",
   "metadata": {},
   "outputs": [
    {
     "name": "stdout",
     "output_type": "stream",
     "text": [
      "a   NaN\n",
      "b   NaN\n",
      "c   NaN\n",
      "d   NaN\n",
      "e   NaN\n",
      "dtype: float64\n"
     ]
    }
   ],
   "source": [
    "Index = ['a', 'b', 'c', 'd', 'e']  # Custom indices\n",
    "series = pd.Series(index=Index)\n",
    "\n",
    "# Display the Series\n",
    "print(series)\n"
   ]
  },
  {
   "cell_type": "code",
   "execution_count": 15,
   "id": "e382584d-6f9d-4b2b-b975-0d254f89ba37",
   "metadata": {},
   "outputs": [
    {
     "name": "stdout",
     "output_type": "stream",
     "text": [
      "a    1\n",
      "b    2\n",
      "c    3\n",
      "dtype: int64\n"
     ]
    }
   ],
   "source": [
    ">>> d = {'a': 1, 'b': 2, 'c': 3}\n",
    "ind=[1,2,3,4]\n",
    ">>> ser = pd.Series(data=d,)\n",
    ">>> print(ser)"
   ]
  },
  {
   "cell_type": "code",
   "execution_count": null,
   "id": "c17fdb1c-cdf9-4f15-b6ba-c267720a7013",
   "metadata": {},
   "outputs": [],
   "source": [
    "                                                "
   ]
  },
  {
   "cell_type": "code",
   "execution_count": null,
   "id": "d2d16fde-766f-4c4a-bf5f-1fa96d2f5a09",
   "metadata": {},
   "outputs": [],
   "source": []
  }
 ],
 "metadata": {
  "kernelspec": {
   "display_name": "Python 3 (ipykernel)",
   "language": "python",
   "name": "python3"
  },
  "language_info": {
   "codemirror_mode": {
    "name": "ipython",
    "version": 3
   },
   "file_extension": ".py",
   "mimetype": "text/x-python",
   "name": "python",
   "nbconvert_exporter": "python",
   "pygments_lexer": "ipython3",
   "version": "3.12.6"
  }
 },
 "nbformat": 4,
 "nbformat_minor": 5
}
