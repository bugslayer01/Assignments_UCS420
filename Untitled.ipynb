{
 "cells": [
  {
   "cell_type": "code",
   "execution_count": null,
   "id": "43a571c3-f38a-4ea8-a858-bfb92bcb33a8",
   "metadata": {},
   "outputs": [],
   "source": [
    "Assingment 1.1: WAP to print your name three times"
   ]
  },
  {
   "cell_type": "code",
   "execution_count": 4,
   "id": "4a3cbb85-c6c0-4b2d-8993-72374b2434b7",
   "metadata": {},
   "outputs": [
    {
     "name": "stdout",
     "output_type": "stream",
     "text": [
      "DevanshDevanshDevansh "
     ]
    }
   ],
   "source": [
    "name =\"Devansh\"\n",
    "print((name*3),end=\" \")"
   ]
  }
 ],
 "metadata": {
  "kernelspec": {
   "display_name": "Python 3 (ipykernel)",
   "language": "python",
   "name": "python3"
  },
  "language_info": {
   "codemirror_mode": {
    "name": "ipython",
    "version": 3
   },
   "file_extension": ".py",
   "mimetype": "text/x-python",
   "name": "python",
   "nbconvert_exporter": "python",
   "pygments_lexer": "ipython3",
   "version": "3.12.6"
  }
 },
 "nbformat": 4,
 "nbformat_minor": 5
}
