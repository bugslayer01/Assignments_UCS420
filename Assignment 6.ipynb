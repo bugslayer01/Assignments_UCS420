{
 "cells": [
  {
   "cell_type": "code",
   "execution_count": null,
   "metadata": {
    "id": "24EjNaDp6ccK"
   },
   "outputs": [],
   "source": [
    "import numpy as np\n",
    "import pandas as pd\n",
    "import matplotlib.pyplot as plt\n",
    "import seaborn as sns"
   ]
  },
  {
   "cell_type": "markdown",
   "metadata": {
    "id": "H7Mc8Muv6kYA"
   },
   "source": [
    "Q1. Ask the user to enter a value (e.g., M) for a mathematical function.\n",
    "\n",
    "Generate x values from -10 to 10 using np.linspace().\n",
    "\n",
    " Compute y values for:\n",
    "\n",
    "o y= M⋅x^2\n",
    "\n",
    "o y=M⋅sin(x)\n",
    "\n",
    " Plot both functions in a single figure:\n",
    "\n",
    "o Use different colors and line styles.\n",
    "\n",
    "o Add legend, grid, and title."
   ]
  },
  {
   "cell_type": "code",
   "execution_count": null,
   "metadata": {
    "colab": {
     "base_uri": "https://localhost:8080/",
     "height": 504
    },
    "id": "8j6nmQ-w6kDX",
    "outputId": "06abaddd-ce40-4486-ae3f-dfa12b86d77c"
   },
   "outputs": [],
   "source": [
    "\n",
    "M =float(input(\"Enter a value for M: \"))\n",
    "x =np.linspace(-10, 10, 100)\n",
    "y1=M*(x**2)\n",
    "y2=M*(np.sin(x))\n",
    "\n",
    "plt.figure(figsize=(8, 5))\n",
    "plt.plot(x,y1, label='y = M*x^2', color='b', linestyle='-')\n",
    "plt.plot(x,y2, label='y = M*sin(x)', color='r', linestyle='--')\n",
    "\n",
    "plt.title(\"Mathematical Functions Plot\")\n",
    "plt.xlabel(\"x values\")\n",
    "plt.ylabel(\"y values\")\n",
    "plt.legend()\n",
    "plt.grid(True)\n",
    "plt.show()\n"
   ]
  },
  {
   "cell_type": "markdown",
   "metadata": {
    "id": "JSsUi6qT7lie"
   },
   "source": [
    "Q.2 Create a dataset of five subjects and scores.\n",
    "\n",
    " Convert it into a Pandas DataFrame.\n",
    "\n",
    " Plot the scores using a Seaborn bar plot with:\n",
    "\n",
    "o Different colors for each bar.\n",
    "\n",
    "o Annotations on top of each bar.\n",
    "\n",
    "o Title, axis labels, and grid."
   ]
  },
  {
   "cell_type": "code",
   "execution_count": null,
   "metadata": {
    "colab": {
     "base_uri": "https://localhost:8080/",
     "height": 574
    },
    "id": "OgovFsmq7hpw",
    "outputId": "c16f2921-b091-4c92-bac8-470934004366"
   },
   "outputs": [],
   "source": [
    "subjects = ['Math', 'Physics', 'Chemistry', 'Biology', 'English']\n",
    "scores = [85, 90, 78, 88, 92]\n",
    "df = pd.DataFrame({'Subject': subjects, 'Score': scores})\n",
    "\n",
    "plt.figure(figsize=(8, 5))\n",
    "barplot = sns.barplot(x='Subject', y='Score', data=df, palette='viridis')\n",
    "\n",
    "for index, value in enumerate(scores):\n",
    "    plt.text(index, value + 1, str(value), ha='center', fontsize=12)\n",
    "\n",
    "plt.title(\"Subject Scores\")\n",
    "plt.xlabel(\"Subjects\")\n",
    "plt.ylabel(\"Scores\")\n",
    "plt.grid(axis='y', linestyle='--', alpha=0.7)\n",
    "plt.show()"
   ]
  },
  {
   "cell_type": "markdown",
   "metadata": {
    "id": "MjyjEpGb8ToZ"
   },
   "source": [
    "Q3. Write a Python script to select your roll number as seed for NumPy and\n",
    "then generate a dataset of 50 values using np.random.randn().\n",
    "\n",
    " Create a 2x2 subplot layout displaying:\n",
    "\n",
    "o Line plot showing cumulative sum.\n",
    "\n",
    "o Scatter plot with random noise.\n",
    "\n",
    " Customize with titles, axis labels, and grids."
   ]
  },
  {
   "cell_type": "code",
   "execution_count": null,
   "metadata": {
    "colab": {
     "base_uri": "https://localhost:8080/",
     "height": 824
    },
    "id": "9NObzOkS8Vve",
    "outputId": "270ca550-820f-40f0-e098-e100bbd1e53b"
   },
   "outputs": [],
   "source": [
    "roll_number = int(input(\"Enter your roll number: \"))\n",
    "np.random.seed(roll_number)\n",
    "data = np.random.randn(50)\n",
    "cum_sum = np.cumsum(data)\n",
    "fig, axes = plt.subplots(2, 2, figsize=(10, 8))\n",
    "\n",
    "axes[0, 0].plot(cum_sum, color='b')\n",
    "axes[0, 0].set_title(\"Cumulative Sum Plot\")\n",
    "axes[0, 0].set_xlabel(\"Index\")\n",
    "axes[0, 0].set_ylabel(\"Cumulative Sum\")\n",
    "axes[0, 0].grid(True)\n",
    "\n",
    "axes[0, 1].scatter(np.arange(50), data, color='r')\n",
    "axes[0, 1].set_title(\"Scatter Plot with Noise\")\n",
    "axes[0, 1].set_xlabel(\"Index\")\n",
    "axes[0, 1].set_ylabel(\"Value\")\n",
    "axes[0, 1].grid(True)\n",
    "\n",
    "plt.tight_layout()\n",
    "plt.show()"
   ]
  },
  {
   "cell_type": "markdown",
   "metadata": {
    "id": "Jyp2RVWZ_t7O"
   },
   "source": [
    "Q.4 Download Data-set from the below link\n",
    "\n",
    "https://github.com/AnjulaMehto/MCA/blob/main/company_sales_data.csv\n",
    "\n",
    "Apply ‘seaborn’ library to do the following.\n",
    "\n",
    "1. Read Total profit of all months and show it using a line plot.\n",
    "\n",
    "2. Read all product sales data and show it using a multiline plot.\n",
    "\n",
    "3. Plot bar chart for all the features/attributes."
   ]
  },
  {
   "cell_type": "code",
   "execution_count": null,
   "metadata": {
    "colab": {
     "base_uri": "https://localhost:8080/",
     "height": 1000
    },
    "id": "b97IbDXo_zex",
    "outputId": "6e548875-97df-4a14-df8e-013e387765a1"
   },
   "outputs": [],
   "source": [
    "df = pd.read_csv(\"https://raw.githubusercontent.com/AnjulaMehto/MCA/main/company_sales_data.csv\")\n",
    "\n",
    "plt.figure(figsize=(8, 5))\n",
    "plt.plot(df['month_number'], df['total_profit'], marker='o', linestyle='-', color='b', label='Total Profit')\n",
    "plt.title(\"Total Profit Over Months\")\n",
    "plt.xlabel(\"Month Number\")\n",
    "plt.ylabel(\"Total Profit\")\n",
    "plt.legend()\n",
    "plt.grid(True)\n",
    "plt.show()\n",
    "\n",
    "plt.figure(figsize=(8, 5))\n",
    "for column in df.columns[1:-2]:\n",
    "    plt.plot(df['month_number'], df[column], marker='o', linestyle='--', label=column)\n",
    "plt.title(\"Product Sales Over Months\")\n",
    "plt.xlabel(\"Month Number\")\n",
    "plt.ylabel(\"Sales\")\n",
    "plt.legend()\n",
    "plt.grid(True)\n",
    "plt.show()\n",
    "\n",
    "df.iloc[:, 1:].plot(kind='bar', figsize=(12, 6), width=0.8)\n",
    "plt.title(\"All attributes\")\n",
    "plt.xlabel(\"Month Number\")\n",
    "plt.ylabel(\"Values\")\n",
    "plt.legend()\n",
    "plt.grid(axis='y', linestyle='--', alpha=0.7)\n",
    "plt.show()\n",
    "\n",
    "df.drop(columns=['month_number','total_units', 'total_profit']).plot(kind='bar', figsize=(12, 6), width=0.8)\n",
    "plt.title(\"Company Sales Data Bar Chart\")\n",
    "plt.xlabel(\"Month Number\")\n",
    "plt.ylabel(\"Values\")\n",
    "plt.legend()\n",
    "plt.grid(axis='y', linestyle='--', alpha=0.7)\n",
    "plt.show()"
   ]
  },
  {
   "cell_type": "code",
   "execution_count": null,
   "metadata": {},
   "outputs": [],
   "source": []
  },
  {
   "cell_type": "code",
   "execution_count": null,
   "metadata": {},
   "outputs": [],
   "source": []
  },
  {
   "cell_type": "code",
   "execution_count": null,
   "metadata": {},
   "outputs": [],
   "source": []
  },
  {
   "cell_type": "code",
   "execution_count": null,
   "metadata": {},
   "outputs": [],
   "source": []
  },
  {
   "cell_type": "code",
   "execution_count": null,
   "metadata": {},
   "outputs": [],
   "source": []
  },
  {
   "cell_type": "code",
   "execution_count": null,
   "metadata": {},
   "outputs": [],
   "source": [
    "W"
   ]
  }
 ],
 "metadata": {
  "colab": {
   "provenance": []
  },
  "kernelspec": {
   "display_name": "Python 3 (ipykernel)",
   "language": "python",
   "name": "python3"
  },
  "language_info": {
   "codemirror_mode": {
    "name": "ipython",
    "version": 3
   },
   "file_extension": ".py",
   "mimetype": "text/x-python",
   "name": "python",
   "nbconvert_exporter": "python",
   "pygments_lexer": "ipython3",
   "version": "3.12.7"
  }
 },
 "nbformat": 4,
 "nbformat_minor": 4
}
